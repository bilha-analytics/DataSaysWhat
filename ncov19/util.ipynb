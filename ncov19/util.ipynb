{
 "cells": [
  {
   "cell_type": "code",
   "execution_count": 3,
   "metadata": {},
   "outputs": [],
   "source": [
    "# df = None\n",
    "\n",
    "# a. bar plots\n",
    "def horizontal_count_plot(title, var, hue=None, ddata=df, order=None, dodge=False):\n",
    "    order = order if order is not None else ddata[var].value_counts().index \n",
    "    sns.countplot(y=var, hue=hue, data=ddata, dodge=dodge, order=order ).set_title( title)\n",
    "    \n",
    "# b. helper @ facet grid bar plots \n",
    "def cplot(x, **kwargs):\n",
    "    sns.countplot(y=x,  **kwargs, palette= sns.husl_palette(9, s=0.7 ))#.set_title( title )\n",
    "    \n",
    "# c. facetgrid\n",
    "def facet_grid(title, var, col, ptype=cplot, ddata=df, order=None, **kwargs):\n",
    "    order = order if order is not None else ddata[var].value_counts().index \n",
    "    g = sns.FacetGrid(col=col, col_wrap=3, size=4, aspect=1.25, data=ddata)\n",
    "    fg = g.map( ptype, var, order=order)\n",
    "\n",
    "# d.\n",
    "def swarm_grouped(title, var_x, var_y, ls_grpby, ddata=df):\n",
    "    dtmp = ddata.groupby( ls_grpby).size().reset_index()\n",
    "    sns.swarmplot(x=var_x, y=var_y, data=ddata).set_title( title ) \n",
    "    \n",
    "# e. show in grid\n",
    "def show_in_grid(ncolz, sharex=True):\n",
    "    fig, ax = plt.subplots( ncols=ncolz, figsize=(20.0, 9.0), sharex=sharex)\n",
    "    \n",
    "    fig.tight_layout()\n",
    "    \n"
   ]
  }
 ],
 "metadata": {
  "kernelspec": {
   "display_name": "Python 3",
   "language": "python",
   "name": "python3"
  },
  "language_info": {
   "codemirror_mode": {
    "name": "ipython",
    "version": 3
   },
   "file_extension": ".py",
   "mimetype": "text/x-python",
   "name": "python",
   "nbconvert_exporter": "python",
   "pygments_lexer": "ipython3",
   "version": "3.7.4"
  }
 },
 "nbformat": 4,
 "nbformat_minor": 2
}
